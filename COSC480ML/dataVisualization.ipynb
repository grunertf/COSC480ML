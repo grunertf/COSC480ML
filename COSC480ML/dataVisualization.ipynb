{
 "cells": [
  {
   "cell_type": "code",
   "execution_count": 1,
   "id": "statistical-mongolia",
   "metadata": {},
   "outputs": [],
   "source": [
    "import numpy as np\n",
    "import pandas as pd\n",
    "import matplotlib.pyplot as plt\n",
    "import seaborn as sns\n",
    "import sklearn\n",
    "import sklearn.preprocessing\n",
    "import sklearn.model_selection\n",
    "import sklearn.metrics\n",
    "from sklearn.ensemble import IsolationForest"
   ]
  },
  {
   "cell_type": "code",
   "execution_count": 2,
   "id": "likely-costume",
   "metadata": {},
   "outputs": [],
   "source": [
    "X = pd.read_csv('truncatedHashrx.1.csv')\n",
    "\n",
    "#X.drop(X.tail(30000).index,inplace=True)\n",
    "\n",
    "X.drop([\"Unnamed: 0\", \"Unnamed: 0.1\", \"No.\"], axis=1, inplace=True)"
   ]
  },
  {
   "cell_type": "code",
   "execution_count": 3,
   "id": "polyphonic-davis",
   "metadata": {},
   "outputs": [
    {
     "data": {
      "text/html": [
       "<div>\n",
       "<style scoped>\n",
       "    .dataframe tbody tr th:only-of-type {\n",
       "        vertical-align: middle;\n",
       "    }\n",
       "\n",
       "    .dataframe tbody tr th {\n",
       "        vertical-align: top;\n",
       "    }\n",
       "\n",
       "    .dataframe thead th {\n",
       "        text-align: right;\n",
       "    }\n",
       "</style>\n",
       "<table border=\"1\" class=\"dataframe\">\n",
       "  <thead>\n",
       "    <tr style=\"text-align: right;\">\n",
       "      <th></th>\n",
       "      <th>Time</th>\n",
       "      <th>Source</th>\n",
       "      <th>Destination</th>\n",
       "      <th>Protocol</th>\n",
       "      <th>Length</th>\n",
       "      <th>Info</th>\n",
       "    </tr>\n",
       "  </thead>\n",
       "  <tbody>\n",
       "    <tr>\n",
       "      <th>0</th>\n",
       "      <td>0.000000</td>\n",
       "      <td>c68b4d81907bb3c8dd3bd232dfaa49191b2e75f91129f0...</td>\n",
       "      <td>c9b11164e4c1173b1db4fb32bcfa15cc1e42daefb857f8...</td>\n",
       "      <td>TLSv1.2</td>\n",
       "      <td>1167</td>\n",
       "      <td>c841ee2d4c6ebcdfab6cfbeb28b7040905bd4ff2791af5...</td>\n",
       "    </tr>\n",
       "    <tr>\n",
       "      <th>1</th>\n",
       "      <td>0.000095</td>\n",
       "      <td>c68b4d81907bb3c8dd3bd232dfaa49191b2e75f91129f0...</td>\n",
       "      <td>c9b11164e4c1173b1db4fb32bcfa15cc1e42daefb857f8...</td>\n",
       "      <td>TCP</td>\n",
       "      <td>1440</td>\n",
       "      <td>8b9d049c4d93c147e644f9c9a29d2d4a752564f6455650...</td>\n",
       "    </tr>\n",
       "    <tr>\n",
       "      <th>2</th>\n",
       "      <td>0.000135</td>\n",
       "      <td>81ba92862264b1e502e862ab36d45f3c942b8493033db2...</td>\n",
       "      <td>0e7d2fa01d0baa454f0fc833ba3887144a418ffcedc9e4...</td>\n",
       "      <td>TCP</td>\n",
       "      <td>70</td>\n",
       "      <td>a92bb1dd752face5cca943f2c62858edbf03306fc40a9d...</td>\n",
       "    </tr>\n",
       "    <tr>\n",
       "      <th>3</th>\n",
       "      <td>0.000364</td>\n",
       "      <td>f385e3f31fd8c39c1d1bbdb2942b631c04b69402a42e35...</td>\n",
       "      <td>e8e526d8319f96d63b1fc675d3f542c0d3d143d7f3ccc4...</td>\n",
       "      <td>STUN</td>\n",
       "      <td>1228</td>\n",
       "      <td>c5c63b0c7ae3784638400ac879aa002689c44f32576dc1...</td>\n",
       "    </tr>\n",
       "    <tr>\n",
       "      <th>4</th>\n",
       "      <td>0.000454</td>\n",
       "      <td>3311ba11b376d9b46a1d7072b5b7d2ea0f763bb41586b2...</td>\n",
       "      <td>91fe02763cf4e44c14d6e943fd05d79bc5a67ed5fc1519...</td>\n",
       "      <td>TCP</td>\n",
       "      <td>54</td>\n",
       "      <td>b889532ef345f6d4b2ad7a5d22f1c5f54e755eeef1ba99...</td>\n",
       "    </tr>\n",
       "  </tbody>\n",
       "</table>\n",
       "</div>"
      ],
      "text/plain": [
       "       Time                                             Source  \\\n",
       "0  0.000000  c68b4d81907bb3c8dd3bd232dfaa49191b2e75f91129f0...   \n",
       "1  0.000095  c68b4d81907bb3c8dd3bd232dfaa49191b2e75f91129f0...   \n",
       "2  0.000135  81ba92862264b1e502e862ab36d45f3c942b8493033db2...   \n",
       "3  0.000364  f385e3f31fd8c39c1d1bbdb2942b631c04b69402a42e35...   \n",
       "4  0.000454  3311ba11b376d9b46a1d7072b5b7d2ea0f763bb41586b2...   \n",
       "\n",
       "                                         Destination Protocol  Length  \\\n",
       "0  c9b11164e4c1173b1db4fb32bcfa15cc1e42daefb857f8...  TLSv1.2    1167   \n",
       "1  c9b11164e4c1173b1db4fb32bcfa15cc1e42daefb857f8...      TCP    1440   \n",
       "2  0e7d2fa01d0baa454f0fc833ba3887144a418ffcedc9e4...      TCP      70   \n",
       "3  e8e526d8319f96d63b1fc675d3f542c0d3d143d7f3ccc4...     STUN    1228   \n",
       "4  91fe02763cf4e44c14d6e943fd05d79bc5a67ed5fc1519...      TCP      54   \n",
       "\n",
       "                                                Info  \n",
       "0  c841ee2d4c6ebcdfab6cfbeb28b7040905bd4ff2791af5...  \n",
       "1  8b9d049c4d93c147e644f9c9a29d2d4a752564f6455650...  \n",
       "2  a92bb1dd752face5cca943f2c62858edbf03306fc40a9d...  \n",
       "3  c5c63b0c7ae3784638400ac879aa002689c44f32576dc1...  \n",
       "4  b889532ef345f6d4b2ad7a5d22f1c5f54e755eeef1ba99...  "
      ]
     },
     "execution_count": 3,
     "metadata": {},
     "output_type": "execute_result"
    }
   ],
   "source": [
    "X.head()"
   ]
  },
  {
   "cell_type": "code",
   "execution_count": 11,
   "id": "minute-equilibrium",
   "metadata": {},
   "outputs": [
    {
     "name": "stdout",
     "output_type": "stream",
     "text": [
      "<class 'pandas.core.frame.DataFrame'>\n",
      "RangeIndex: 50000 entries, 0 to 49999\n",
      "Data columns (total 6 columns):\n",
      " #   Column       Non-Null Count  Dtype  \n",
      "---  ------       --------------  -----  \n",
      " 0   Time         50000 non-null  float64\n",
      " 1   Source       50000 non-null  object \n",
      " 2   Destination  50000 non-null  object \n",
      " 3   Protocol     50000 non-null  object \n",
      " 4   Length       50000 non-null  int64  \n",
      " 5   Info         50000 non-null  object \n",
      "dtypes: float64(1), int64(1), object(4)\n",
      "memory usage: 2.3+ MB\n"
     ]
    }
   ],
   "source": [
    "X.info()"
   ]
  },
  {
   "cell_type": "code",
   "execution_count": 4,
   "id": "cooperative-architecture",
   "metadata": {},
   "outputs": [
    {
     "data": {
      "text/plain": [
       "count    50000.000000\n",
       "mean       283.852900\n",
       "std        445.544601\n",
       "min         42.000000\n",
       "25%         58.000000\n",
       "50%         70.000000\n",
       "75%        191.000000\n",
       "max       1518.000000\n",
       "Name: Length, dtype: float64"
      ]
     },
     "execution_count": 4,
     "metadata": {},
     "output_type": "execute_result"
    }
   ],
   "source": [
    "X['Length'].describe()"
   ]
  },
  {
   "cell_type": "code",
   "execution_count": 5,
   "id": "seasonal-groove",
   "metadata": {},
   "outputs": [
    {
     "data": {
      "image/png": "[encoded data removed]",
      "text/plain": [
       "<Figure size 432x288 with 1 Axes>"
      ]
     },
     "metadata": {
      "needs_background": "light"
     },
     "output_type": "display_data"
    }
   ],
   "source": [
    "plt.scatter(range(X.shape[0]), np.sort(X['Length'].values))\n",
    "\n",
    "plt.xlabel('index')\n",
    "plt.ylabel('Length')\n",
    "plt.title(\"Length distribution\")\n",
    "sns.despine()"
   ]
  },
  {
   "cell_type": "code",
   "execution_count": 6,
   "id": "opposite-teach",
   "metadata": {},
   "outputs": [
    {
     "name": "stdout",
     "output_type": "stream",
     "text": [
      "Skewness: 1.958221\n",
      "Kurtosis: 2.194744\n"
     ]
    },
    {
     "data": {
      "image/png": "[encoded data removed]",
      "text/plain": [
       "<Figure size 432x288 with 1 Axes>"
      ]
     },
     "metadata": {
      "needs_background": "light"
     },
     "output_type": "display_data"
    }
   ],
   "source": [
    "sns.histplot(X['Length'])\n",
    "plt.title(\"Distribution of Lengths\")\n",
    "sns.despine()\n",
    "\n",
    "print(\"Skewness: %f\" % X['Length'].skew())\n",
    "print(\"Kurtosis: %f\" % X['Length'].kurt())"
   ]
  },
  {
   "cell_type": "code",
   "execution_count": 8,
   "id": "determined-security",
   "metadata": {},
   "outputs": [
    {
     "data": {
      "text/plain": [
       "count                                                 50000\n",
       "unique                                                 4898\n",
       "top       2658138b4f5c034cec88af5c02372a3005f5503408ba4b...\n",
       "freq                                                   2074\n",
       "Name: Source, dtype: object"
      ]
     },
     "execution_count": 8,
     "metadata": {},
     "output_type": "execute_result"
    }
   ],
   "source": [
    "X['Source'].describe()"
   ]
  },
  {
   "cell_type": "code",
   "execution_count": 10,
   "id": "integrated-simulation",
   "metadata": {},
   "outputs": [
    {
     "data": {
      "image/png": "[encoded data removed]",
      "text/plain": [
       "<Figure size 432x288 with 1 Axes>"
      ]
     },
     "metadata": {
      "needs_background": "light"
     },
     "output_type": "display_data"
    }
   ],
   "source": [
    "sns.histplot(X['Source'])\n",
    "plt.title(\"Distribution of Sources\")\n",
    "sns.despine()"
   ]
  },
  {
   "cell_type": "code",
   "execution_count": 12,
   "id": "charming-soldier",
   "metadata": {},
   "outputs": [],
   "source": [
    "# List of the column names with nominal features that should be one-hot encoded\n",
    "onehot_features = ['Source', 'Destination', 'Protocol', 'Info']\n",
    "\n",
    "# One-hot encode these features \n",
    "onehot = sklearn.preprocessing.OneHotEncoder(sparse=False) # we want a non-sparse matrix for concatenation\n",
    "encoded = onehot.fit_transform(X[onehot_features])\n",
    "encoded = pd.DataFrame(encoded) # the output of the encoding is a NumPy array, but we want it as a Pandas DataFrame\n",
    "\n",
    "# One-hot encoding produces an output with more columns than the input, so we can't just reassign the output to X. \n",
    "# There are a few ways to put the encoded features in the original dataframe, but none of them are that elegant, so we'll just drop the old columns and concatenate the new\n",
    "X.drop(onehot_features, axis=1, inplace=True)\n",
    "X = pd.concat([X, encoded], axis=1)\n",
    "\n",
    "# print encoded X for inspection"
   ]
  },
  {
   "cell_type": "code",
   "execution_count": 14,
   "id": "cardiovascular-kuwait",
   "metadata": {},
   "outputs": [
    {
     "data": {
      "text/plain": [
       "(50000, 50142)"
      ]
     },
     "execution_count": 14,
     "metadata": {},
     "output_type": "execute_result"
    }
   ],
   "source": [
    "X.shape"
   ]
  },
  {
   "cell_type": "code",
   "execution_count": 15,
   "id": "elementary-recovery",
   "metadata": {},
   "outputs": [
    {
     "data": {
      "text/plain": [
       "Index([  'Time', 'Length',        0,        1,        2,        3,        4,\n",
       "              5,        6,        7,\n",
       "       ...\n",
       "          50130,    50131,    50132,    50133,    50134,    50135,    50136,\n",
       "          50137,    50138,    50139],\n",
       "      dtype='object', length=50142)"
      ]
     },
     "execution_count": 15,
     "metadata": {},
     "output_type": "execute_result"
    }
   ],
   "source": [
    "X.columns"
   ]
  },
  {
   "cell_type": "code",
   "execution_count": 16,
   "id": "academic-lighter",
   "metadata": {},
   "outputs": [
    {
     "data": {
      "text/html": [
       "<div>\n",
       "<style scoped>\n",
       "    .dataframe tbody tr th:only-of-type {\n",
       "        vertical-align: middle;\n",
       "    }\n",
       "\n",
       "    .dataframe tbody tr th {\n",
       "        vertical-align: top;\n",
       "    }\n",
       "\n",
       "    .dataframe thead th {\n",
       "        text-align: right;\n",
       "    }\n",
       "</style>\n",
       "<table border=\"1\" class=\"dataframe\">\n",
       "  <thead>\n",
       "    <tr style=\"text-align: right;\">\n",
       "      <th></th>\n",
       "      <th>Time</th>\n",
       "      <th>Length</th>\n",
       "      <th>0</th>\n",
       "      <th>1</th>\n",
       "      <th>2</th>\n",
       "      <th>3</th>\n",
       "      <th>4</th>\n",
       "      <th>5</th>\n",
       "      <th>6</th>\n",
       "      <th>7</th>\n",
       "      <th>...</th>\n",
       "      <th>50130</th>\n",
       "      <th>50131</th>\n",
       "      <th>50132</th>\n",
       "      <th>50133</th>\n",
       "      <th>50134</th>\n",
       "      <th>50135</th>\n",
       "      <th>50136</th>\n",
       "      <th>50137</th>\n",
       "      <th>50138</th>\n",
       "      <th>50139</th>\n",
       "    </tr>\n",
       "  </thead>\n",
       "  <tbody>\n",
       "    <tr>\n",
       "      <th>0</th>\n",
       "      <td>0.000000</td>\n",
       "      <td>1167</td>\n",
       "      <td>0.0</td>\n",
       "      <td>0.0</td>\n",
       "      <td>0.0</td>\n",
       "      <td>0.0</td>\n",
       "      <td>0.0</td>\n",
       "      <td>0.0</td>\n",
       "      <td>0.0</td>\n",
       "      <td>0.0</td>\n",
       "      <td>...</td>\n",
       "      <td>0.0</td>\n",
       "      <td>0.0</td>\n",
       "      <td>0.0</td>\n",
       "      <td>0.0</td>\n",
       "      <td>0.0</td>\n",
       "      <td>0.0</td>\n",
       "      <td>0.0</td>\n",
       "      <td>0.0</td>\n",
       "      <td>0.0</td>\n",
       "      <td>0.0</td>\n",
       "    </tr>\n",
       "    <tr>\n",
       "      <th>1</th>\n",
       "      <td>0.000095</td>\n",
       "      <td>1440</td>\n",
       "      <td>0.0</td>\n",
       "      <td>0.0</td>\n",
       "      <td>0.0</td>\n",
       "      <td>0.0</td>\n",
       "      <td>0.0</td>\n",
       "      <td>0.0</td>\n",
       "      <td>0.0</td>\n",
       "      <td>0.0</td>\n",
       "      <td>...</td>\n",
       "      <td>0.0</td>\n",
       "      <td>0.0</td>\n",
       "      <td>0.0</td>\n",
       "      <td>0.0</td>\n",
       "      <td>0.0</td>\n",
       "      <td>0.0</td>\n",
       "      <td>0.0</td>\n",
       "      <td>0.0</td>\n",
       "      <td>0.0</td>\n",
       "      <td>0.0</td>\n",
       "    </tr>\n",
       "    <tr>\n",
       "      <th>2</th>\n",
       "      <td>0.000135</td>\n",
       "      <td>70</td>\n",
       "      <td>0.0</td>\n",
       "      <td>0.0</td>\n",
       "      <td>0.0</td>\n",
       "      <td>0.0</td>\n",
       "      <td>0.0</td>\n",
       "      <td>0.0</td>\n",
       "      <td>0.0</td>\n",
       "      <td>0.0</td>\n",
       "      <td>...</td>\n",
       "      <td>0.0</td>\n",
       "      <td>0.0</td>\n",
       "      <td>0.0</td>\n",
       "      <td>0.0</td>\n",
       "      <td>0.0</td>\n",
       "      <td>0.0</td>\n",
       "      <td>0.0</td>\n",
       "      <td>0.0</td>\n",
       "      <td>0.0</td>\n",
       "      <td>0.0</td>\n",
       "    </tr>\n",
       "    <tr>\n",
       "      <th>3</th>\n",
       "      <td>0.000364</td>\n",
       "      <td>1228</td>\n",
       "      <td>0.0</td>\n",
       "      <td>0.0</td>\n",
       "      <td>0.0</td>\n",
       "      <td>0.0</td>\n",
       "      <td>0.0</td>\n",
       "      <td>0.0</td>\n",
       "      <td>0.0</td>\n",
       "      <td>0.0</td>\n",
       "      <td>...</td>\n",
       "      <td>0.0</td>\n",
       "      <td>0.0</td>\n",
       "      <td>0.0</td>\n",
       "      <td>0.0</td>\n",
       "      <td>0.0</td>\n",
       "      <td>0.0</td>\n",
       "      <td>0.0</td>\n",
       "      <td>0.0</td>\n",
       "      <td>0.0</td>\n",
       "      <td>0.0</td>\n",
       "    </tr>\n",
       "    <tr>\n",
       "      <th>4</th>\n",
       "      <td>0.000454</td>\n",
       "      <td>54</td>\n",
       "      <td>0.0</td>\n",
       "      <td>0.0</td>\n",
       "      <td>0.0</td>\n",
       "      <td>0.0</td>\n",
       "      <td>0.0</td>\n",
       "      <td>0.0</td>\n",
       "      <td>0.0</td>\n",
       "      <td>0.0</td>\n",
       "      <td>...</td>\n",
       "      <td>0.0</td>\n",
       "      <td>0.0</td>\n",
       "      <td>0.0</td>\n",
       "      <td>0.0</td>\n",
       "      <td>0.0</td>\n",
       "      <td>0.0</td>\n",
       "      <td>0.0</td>\n",
       "      <td>0.0</td>\n",
       "      <td>0.0</td>\n",
       "      <td>0.0</td>\n",
       "    </tr>\n",
       "  </tbody>\n",
       "</table>\n",
       "<p>5 rows × 50142 columns</p>\n",
       "</div>"
      ],
      "text/plain": [
       "       Time  Length    0    1    2    3    4    5    6    7  ...  50130  \\\n",
       "0  0.000000    1167  0.0  0.0  0.0  0.0  0.0  0.0  0.0  0.0  ...    0.0   \n",
       "1  0.000095    1440  0.0  0.0  0.0  0.0  0.0  0.0  0.0  0.0  ...    0.0   \n",
       "2  0.000135      70  0.0  0.0  0.0  0.0  0.0  0.0  0.0  0.0  ...    0.0   \n",
       "3  0.000364    1228  0.0  0.0  0.0  0.0  0.0  0.0  0.0  0.0  ...    0.0   \n",
       "4  0.000454      54  0.0  0.0  0.0  0.0  0.0  0.0  0.0  0.0  ...    0.0   \n",
       "\n",
       "   50131  50132  50133  50134  50135  50136  50137  50138  50139  \n",
       "0    0.0    0.0    0.0    0.0    0.0    0.0    0.0    0.0    0.0  \n",
       "1    0.0    0.0    0.0    0.0    0.0    0.0    0.0    0.0    0.0  \n",
       "2    0.0    0.0    0.0    0.0    0.0    0.0    0.0    0.0    0.0  \n",
       "3    0.0    0.0    0.0    0.0    0.0    0.0    0.0    0.0    0.0  \n",
       "4    0.0    0.0    0.0    0.0    0.0    0.0    0.0    0.0    0.0  \n",
       "\n",
       "[5 rows x 50142 columns]"
      ]
     },
     "execution_count": 16,
     "metadata": {},
     "output_type": "execute_result"
    }
   ],
   "source": [
    "X.head()"
   ]
  },
  {
   "cell_type": "code",
   "execution_count": null,
   "id": "terminal-logic",
   "metadata": {},
   "outputs": [],
   "source": [
    "uniqueValues.shape"
   ]
  },
  {
   "cell_type": "code",
   "execution_count": null,
   "id": "classical-commonwealth",
   "metadata": {},
   "outputs": [],
   "source": [
    "model=IsolationForest(n_estimators=100, max_samples='auto', max_features=1.0, bootstrap=False, n_jobs=-1, random_state=42, verbose=0)"
   ]
  },
  {
   "cell_type": "code",
   "execution_count": null,
   "id": "verbal-vacuum",
   "metadata": {},
   "outputs": [],
   "source": [
    "model.fit(X)"
   ]
  },
  {
   "cell_type": "code",
   "execution_count": null,
   "id": "worse-herald",
   "metadata": {},
   "outputs": [],
   "source": [
    "X['scores'] =model.decision_function(X)\n",
    "X['anomaly']=model.predict(X)\n",
    "\n",
    "anomaly=X.loc[X['anomaly']==-1]\n",
    "anomaly_index=list(anomaly.index)\n",
    "print(anomaly)"
   ]
  },
  {
   "cell_type": "code",
   "execution_count": null,
   "id": "oriental-lesbian",
   "metadata": {},
   "outputs": [],
   "source": []
  }
 ],
 "metadata": {
  "kernelspec": {
   "display_name": "Python 3",
   "language": "python",
   "name": "python3"
  },
  "language_info": {
   "codemirror_mode": {
    "name": "ipython",
    "version": 3
   },
   "file_extension": ".py",
   "mimetype": "text/x-python",
   "name": "python",
   "nbconvert_exporter": "python",
   "pygments_lexer": "ipython3",
   "version": "3.8.0"
  }
 },
 "nbformat": 4,
 "nbformat_minor": 5
}
